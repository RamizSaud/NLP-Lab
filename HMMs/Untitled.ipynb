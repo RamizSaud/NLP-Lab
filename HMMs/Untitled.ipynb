{
 "cells": [
  {
   "cell_type": "code",
   "execution_count": 1,
   "id": "58567a99-7590-42a6-9347-bff02a6f19be",
   "metadata": {},
   "outputs": [],
   "source": [
    "import nltk\n",
    "from nltk.tag import HiddenMarkovModelTagger\n",
    "from nltk.corpus import treebank"
   ]
  },
  {
   "cell_type": "code",
   "execution_count": 2,
   "id": "546a4e8c-b9af-4691-8be0-614db2a00823",
   "metadata": {},
   "outputs": [
    {
     "name": "stderr",
     "output_type": "stream",
     "text": [
      "[nltk_data] Downloading package treebank to /root/nltk_data...\n",
      "[nltk_data]   Unzipping corpora/treebank.zip.\n"
     ]
    },
    {
     "data": {
      "text/plain": [
       "True"
      ]
     },
     "execution_count": 2,
     "metadata": {},
     "output_type": "execute_result"
    }
   ],
   "source": [
    "# Download the Penn Treebank corpus if not already downloaded\n",
    "nltk.download('treebank')"
   ]
  },
  {
   "cell_type": "code",
   "execution_count": 10,
   "id": "75af2232-48e3-4c26-ae72-36aee5ec095d",
   "metadata": {},
   "outputs": [
    {
     "name": "stderr",
     "output_type": "stream",
     "text": [
      "[nltk_data] Downloading package punkt to /root/nltk_data...\n",
      "[nltk_data]   Unzipping tokenizers/punkt.zip.\n"
     ]
    },
    {
     "data": {
      "text/plain": [
       "True"
      ]
     },
     "execution_count": 10,
     "metadata": {},
     "output_type": "execute_result"
    }
   ],
   "source": [
    "nltk.download('punkt')"
   ]
  },
  {
   "cell_type": "code",
   "execution_count": 3,
   "id": "b09e36f9-f80a-4111-9b11-16c666b50eeb",
   "metadata": {},
   "outputs": [],
   "source": [
    "# Load the Penn Treebank tagged corpus\n",
    "tagged_corpus = treebank.tagged_sents()"
   ]
  },
  {
   "cell_type": "code",
   "execution_count": 4,
   "id": "e9e5d16d-de12-44bb-b805-92111bf991de",
   "metadata": {},
   "outputs": [],
   "source": [
    "# Split the tagged corpus into training and testing sets\n",
    "train_size = int(0.8 * len(tagged_corpus))\n",
    "train_data = tagged_corpus[:train_size]\n",
    "test_data = tagged_corpus[train_size:]"
   ]
  },
  {
   "cell_type": "code",
   "execution_count": 5,
   "id": "b268196e-8cb0-4076-930c-6b21463eb103",
   "metadata": {},
   "outputs": [],
   "source": [
    "# Train the Hidden Markov Model (HMM) POS tagger\n",
    "hmm_tagger = HiddenMarkovModelTagger.train(train_data)"
   ]
  },
  {
   "cell_type": "code",
   "execution_count": 7,
   "id": "ef0695c9-6e73-4309-8f41-fc062e9fb2cd",
   "metadata": {},
   "outputs": [
    {
     "name": "stderr",
     "output_type": "stream",
     "text": [
      "/tmp/ipykernel_27/2767656470.py:2: DeprecationWarning: \n",
      "  Function evaluate() has been deprecated.  Use accuracy(gold)\n",
      "  instead.\n",
      "  accuracy = hmm_tagger.evaluate(test_data)\n"
     ]
    },
    {
     "name": "stdout",
     "output_type": "stream",
     "text": [
      "Accuracy: 90.11%\n"
     ]
    }
   ],
   "source": [
    "# Evaluate the tagger on the test data\n",
    "accuracy = hmm_tagger.evaluate(test_data)\n",
    "print(f\"Accuracy: {accuracy:.2%}\")"
   ]
  },
  {
   "cell_type": "code",
   "execution_count": 11,
   "id": "778489ea-0b7e-4c99-b6d2-7542841d53d1",
   "metadata": {},
   "outputs": [
    {
     "name": "stdout",
     "output_type": "stream",
     "text": [
      "[('This', 'DT'), ('is', 'VBZ'), ('a', 'DT'), ('sample', 'VBN'), ('sentence', '-NONE-'), ('to', 'TO'), ('test', 'VB'), ('the', 'DT'), ('POS', 'JJ'), ('tagger', 'NNS'), ('.', '.')]\n"
     ]
    }
   ],
   "source": [
    "# Example usage of the trained tagger\n",
    "sentence = \"This is a sample sentence to test the POS tagger.\"\n",
    "tagged_sentence = hmm_tagger.tag(nltk.word_tokenize(sentence))\n",
    "print(tagged_sentence)"
   ]
  },
  {
   "cell_type": "code",
   "execution_count": null,
   "id": "32ef900e-f7e1-4da8-8eb7-faf2d0faf9aa",
   "metadata": {},
   "outputs": [],
   "source": []
  }
 ],
 "metadata": {
  "kernelspec": {
   "display_name": "Python 3 (ipykernel)",
   "language": "python",
   "name": "python3"
  },
  "language_info": {
   "codemirror_mode": {
    "name": "ipython",
    "version": 3
   },
   "file_extension": ".py",
   "mimetype": "text/x-python",
   "name": "python",
   "nbconvert_exporter": "python",
   "pygments_lexer": "ipython3",
   "version": "3.11.0rc1"
  }
 },
 "nbformat": 4,
 "nbformat_minor": 5
}
