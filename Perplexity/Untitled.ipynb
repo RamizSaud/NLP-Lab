{
 "cells": [
  {
   "cell_type": "code",
   "execution_count": 5,
   "id": "8a905c53-3739-4851-bd29-45eea9c0c06d",
   "metadata": {},
   "outputs": [
    {
     "name": "stdout",
     "output_type": "stream",
     "text": [
      "Perplexity: 50000000005.00\n"
     ]
    },
    {
     "name": "stderr",
     "output_type": "stream",
     "text": [
      "[nltk_data] Downloading package punkt to /root/nltk_data...\n",
      "[nltk_data]   Package punkt is already up-to-date!\n",
      "[nltk_data] Downloading package stopwords to /root/nltk_data...\n",
      "[nltk_data]   Package stopwords is already up-to-date!\n"
     ]
    }
   ],
   "source": [
    "import nltk\n",
    "from nltk import ngrams\n",
    "from collections import Counter\n",
    "import math\n",
    "\n",
    "nltk.download('punkt')\n",
    "nltk.download('stopwords')\n",
    "\n",
    "# Sample text data\n",
    "text = \"the cat sat on the mat and the dog barked\"\n",
    "\n",
    "# Preprocess the text data\n",
    "def preprocess_text(text):\n",
    "    tokens = nltk.word_tokenize(text.lower())  # Tokenize and convert to lowercase\n",
    "    tokens = [token for token in tokens if token.isalnum()]  # Remove punctuation\n",
    "    tokens = [token for token in tokens if token not in nltk.corpus.stopwords.words('english')]  # Remove stopwords\n",
    "    return tokens\n",
    "\n",
    "# Create n-grams from preprocessed text\n",
    "def create_ngrams(tokens, n):\n",
    "    return list(ngrams(tokens, n))\n",
    "\n",
    "# Build the language model (unigram in this example)\n",
    "def build_language_model(tokens):\n",
    "    unigram_counts = Counter(tokens)\n",
    "    total_tokens = len(tokens)\n",
    "    unigram_probs = {token: count / total_tokens for token, count in unigram_counts.items()}\n",
    "    return unigram_probs\n",
    "\n",
    "# Prepare test dataset\n",
    "test_text = \"the cat meowed\"\n",
    "\n",
    "# Calculate perplexity\n",
    "def calculate_perplexity(test_text, language_model, n):\n",
    "    test_tokens = preprocess_text(test_text)\n",
    "    test_ngrams = create_ngrams(test_tokens, n)\n",
    "    \n",
    "    perplexity_sum = 0\n",
    "    vocab_size = len(language_model)\n",
    "    epsilon = 1e-10  # Small epsilon value for Laplace smoothing\n",
    "    \n",
    "    for ngram in test_ngrams:\n",
    "        probability = (language_model.get(ngram, 0) + epsilon) / (vocab_size + epsilon * vocab_size)\n",
    "        perplexity_sum += -math.log(probability)\n",
    "    \n",
    "    perplexity = math.exp(perplexity_sum / len(test_ngrams))\n",
    "    return perplexity\n",
    "\n",
    "# Example usage\n",
    "tokens = preprocess_text(text)\n",
    "language_model = build_language_model(tokens)\n",
    "perplexity = calculate_perplexity(test_text, language_model, n=1)\n",
    "print(f\"Perplexity: {perplexity:.2f}\")"
   ]
  },
  {
   "cell_type": "code",
   "execution_count": null,
   "id": "e40ed089-a8e9-44b7-b5e9-4aa5cdd5fc89",
   "metadata": {},
   "outputs": [],
   "source": []
  }
 ],
 "metadata": {
  "kernelspec": {
   "display_name": "Python 3 (ipykernel)",
   "language": "python",
   "name": "python3"
  },
  "language_info": {
   "codemirror_mode": {
    "name": "ipython",
    "version": 3
   },
   "file_extension": ".py",
   "mimetype": "text/x-python",
   "name": "python",
   "nbconvert_exporter": "python",
   "pygments_lexer": "ipython3",
   "version": "3.11.0rc1"
  }
 },
 "nbformat": 4,
 "nbformat_minor": 5
}
