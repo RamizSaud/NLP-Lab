{
 "cells": [
  {
   "cell_type": "code",
   "execution_count": 1,
   "id": "d70c63d4-45e1-44f6-a343-7760631672b2",
   "metadata": {},
   "outputs": [],
   "source": [
    "# Toy dataset for sentiment analysis\n",
    "documents = [\n",
    "    (\"I love this product\", \"positive\"),\n",
    "    (\"This is amazing\", \"positive\"),\n",
    "    (\"I hate this product\", \"negative\"),\n",
    "    (\"This is terrible\", \"negative\"),\n",
    "    (\"This product is okay\", \"neutral\"),\n",
    "    (\"I don't like it\", \"neutral\")\n",
    "]\n",
    "\n",
    "from collections import defaultdict\n",
    "import re\n",
    "\n",
    "def preprocess_text(text):\n",
    "    text = text.lower()  # Convert to lowercase\n",
    "    text = re.sub(r'\\W', ' ', text)  # Remove non-alphanumeric characters\n",
    "    tokens = text.split()  # Tokenization\n",
    "    return tokens\n",
    "\n",
    "# Preprocess documents and extract features\n",
    "word_counts = defaultdict(lambda: [0, 0, 0])  # [positive_count, negative_count, neutral_count]\n",
    "for doc, label in documents:\n",
    "    tokens = preprocess_text(doc)\n",
    "    for token in tokens:\n",
    "        if label == 'positive':\n",
    "            word_counts[token][0] += 1\n",
    "        elif label == 'negative':\n",
    "            word_counts[token][1] += 1\n",
    "        else:\n",
    "            word_counts[token][2] += 1\n",
    "\n",
    "total_positive = sum(counts[0] for counts in word_counts.values())\n",
    "total_negative = sum(counts[1] for counts in word_counts.values())\n",
    "total_neutral = sum(counts[2] for counts in word_counts.values())\n",
    "total_docs = len(documents)\n",
    "\n",
    "positive_probs = {word: counts[0] / total_positive for word, counts in word_counts.items()}\n",
    "negative_probs = {word: counts[1] / total_negative for word, counts in word_counts.items()}\n",
    "neutral_probs = {word: counts[2] / total_neutral for word, counts in word_counts.items()}\n",
    "\n",
    "prior_positive = total_positive / total_docs\n",
    "prior_negative = total_negative / total_docs\n",
    "prior_neutral = total_neutral / total_docs"
   ]
  },
  {
   "cell_type": "code",
   "execution_count": 2,
   "id": "34f57f76-0863-408e-88d6-01cc81e38ed5",
   "metadata": {},
   "outputs": [
    {
     "name": "stdout",
     "output_type": "stream",
     "text": [
      "Predicted sentiment: positive\n"
     ]
    }
   ],
   "source": [
    "def classify(text):\n",
    "    tokens = preprocess_text(text)\n",
    "    positive_score = prior_positive\n",
    "    negative_score = prior_negative\n",
    "    neutral_score = prior_neutral\n",
    "    \n",
    "    for token in tokens:\n",
    "        positive_score *= positive_probs.get(token, 0) + 1  # Laplace smoothing\n",
    "        negative_score *= negative_probs.get(token, 0) + 1\n",
    "        neutral_score *= neutral_probs.get(token, 0) + 1\n",
    "    \n",
    "    max_score = max(positive_score, negative_score, neutral_score)\n",
    "    if max_score == positive_score:\n",
    "        return \"positive\"\n",
    "    elif max_score == negative_score:\n",
    "        return \"negative\"\n",
    "    else:\n",
    "        return \"neutral\"\n",
    "\n",
    "# Test the classifier\n",
    "test_text = \"This product is amazing\"\n",
    "predicted_sentiment = classify(test_text)\n",
    "print(f\"Predicted sentiment: {predicted_sentiment}\")"
   ]
  },
  {
   "cell_type": "code",
   "execution_count": null,
   "id": "f2cb1090-510c-47ac-b4b9-48250cc12cdc",
   "metadata": {},
   "outputs": [],
   "source": []
  }
 ],
 "metadata": {
  "kernelspec": {
   "display_name": "Python 3 (ipykernel)",
   "language": "python",
   "name": "python3"
  },
  "language_info": {
   "codemirror_mode": {
    "name": "ipython",
    "version": 3
   },
   "file_extension": ".py",
   "mimetype": "text/x-python",
   "name": "python",
   "nbconvert_exporter": "python",
   "pygments_lexer": "ipython3",
   "version": "3.11.0rc1"
  }
 },
 "nbformat": 4,
 "nbformat_minor": 5
}
